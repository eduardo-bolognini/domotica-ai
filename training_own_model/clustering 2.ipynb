{
 "cells": [
  {
   "cell_type": "code",
   "execution_count": 23,
   "id": "a3b22ec9",
   "metadata": {},
   "outputs": [
    {
     "name": "stdout",
     "output_type": "stream",
     "text": [
      "Requirement already satisfied: numpy in ./venv/lib/python3.10/site-packages (2.2.6)\n",
      "Requirement already satisfied: pandas in ./venv/lib/python3.10/site-packages (2.3.0)\n",
      "Requirement already satisfied: scikit-learn in ./venv/lib/python3.10/site-packages (1.7.0)\n",
      "Requirement already satisfied: pillow in ./venv/lib/python3.10/site-packages (11.2.1)\n",
      "Requirement already satisfied: torch in ./venv/lib/python3.10/site-packages (2.7.1)\n",
      "Requirement already satisfied: torchvision in ./venv/lib/python3.10/site-packages (0.22.1)\n",
      "Requirement already satisfied: open-clip-torch in ./venv/lib/python3.10/site-packages (2.32.0)\n",
      "Requirement already satisfied: timm in ./venv/lib/python3.10/site-packages (1.0.16)\n",
      "Requirement already satisfied: ultralytics in ./venv/lib/python3.10/site-packages (8.3.161)\n",
      "Requirement already satisfied: deep-sort-realtime in ./venv/lib/python3.10/site-packages (1.3.2)\n",
      "Requirement already satisfied: tqdm in ./venv/lib/python3.10/site-packages (4.67.1)\n",
      "Requirement already satisfied: python-dateutil>=2.8.2 in ./venv/lib/python3.10/site-packages (from pandas) (2.9.0.post0)\n",
      "Requirement already satisfied: pytz>=2020.1 in ./venv/lib/python3.10/site-packages (from pandas) (2025.2)\n",
      "Requirement already satisfied: tzdata>=2022.7 in ./venv/lib/python3.10/site-packages (from pandas) (2025.2)\n",
      "Requirement already satisfied: scipy>=1.8.0 in ./venv/lib/python3.10/site-packages (from scikit-learn) (1.15.3)\n",
      "Requirement already satisfied: joblib>=1.2.0 in ./venv/lib/python3.10/site-packages (from scikit-learn) (1.5.1)\n",
      "Requirement already satisfied: threadpoolctl>=3.1.0 in ./venv/lib/python3.10/site-packages (from scikit-learn) (3.6.0)\n",
      "Requirement already satisfied: filelock in ./venv/lib/python3.10/site-packages (from torch) (3.18.0)\n",
      "Requirement already satisfied: typing-extensions>=4.10.0 in ./venv/lib/python3.10/site-packages (from torch) (4.14.0)\n",
      "Requirement already satisfied: sympy>=1.13.3 in ./venv/lib/python3.10/site-packages (from torch) (1.14.0)\n",
      "Requirement already satisfied: networkx in ./venv/lib/python3.10/site-packages (from torch) (3.4.2)\n",
      "Requirement already satisfied: jinja2 in ./venv/lib/python3.10/site-packages (from torch) (3.1.6)\n",
      "Requirement already satisfied: fsspec in ./venv/lib/python3.10/site-packages (from torch) (2025.5.1)\n",
      "Requirement already satisfied: regex in ./venv/lib/python3.10/site-packages (from open-clip-torch) (2024.11.6)\n",
      "Requirement already satisfied: ftfy in ./venv/lib/python3.10/site-packages (from open-clip-torch) (6.3.1)\n",
      "Requirement already satisfied: huggingface-hub in ./venv/lib/python3.10/site-packages (from open-clip-torch) (0.33.1)\n",
      "Requirement already satisfied: safetensors in ./venv/lib/python3.10/site-packages (from open-clip-torch) (0.5.3)\n",
      "Requirement already satisfied: pyyaml in ./venv/lib/python3.10/site-packages (from timm) (6.0.2)\n",
      "Requirement already satisfied: matplotlib>=3.3.0 in ./venv/lib/python3.10/site-packages (from ultralytics) (3.10.3)\n",
      "Requirement already satisfied: opencv-python>=4.6.0 in ./venv/lib/python3.10/site-packages (from ultralytics) (4.11.0.86)\n",
      "Requirement already satisfied: requests>=2.23.0 in ./venv/lib/python3.10/site-packages (from ultralytics) (2.32.4)\n",
      "Requirement already satisfied: psutil in ./venv/lib/python3.10/site-packages (from ultralytics) (7.0.0)\n",
      "Requirement already satisfied: py-cpuinfo in ./venv/lib/python3.10/site-packages (from ultralytics) (9.0.0)\n",
      "Requirement already satisfied: ultralytics-thop>=2.0.0 in ./venv/lib/python3.10/site-packages (from ultralytics) (2.0.14)\n",
      "Requirement already satisfied: contourpy>=1.0.1 in ./venv/lib/python3.10/site-packages (from matplotlib>=3.3.0->ultralytics) (1.3.2)\n",
      "Requirement already satisfied: cycler>=0.10 in ./venv/lib/python3.10/site-packages (from matplotlib>=3.3.0->ultralytics) (0.12.1)\n",
      "Requirement already satisfied: fonttools>=4.22.0 in ./venv/lib/python3.10/site-packages (from matplotlib>=3.3.0->ultralytics) (4.58.4)\n",
      "Requirement already satisfied: kiwisolver>=1.3.1 in ./venv/lib/python3.10/site-packages (from matplotlib>=3.3.0->ultralytics) (1.4.8)\n",
      "Requirement already satisfied: packaging>=20.0 in ./venv/lib/python3.10/site-packages (from matplotlib>=3.3.0->ultralytics) (25.0)\n",
      "Requirement already satisfied: pyparsing>=2.3.1 in ./venv/lib/python3.10/site-packages (from matplotlib>=3.3.0->ultralytics) (3.2.3)\n",
      "Requirement already satisfied: six>=1.5 in ./venv/lib/python3.10/site-packages (from python-dateutil>=2.8.2->pandas) (1.17.0)\n",
      "Requirement already satisfied: charset_normalizer<4,>=2 in ./venv/lib/python3.10/site-packages (from requests>=2.23.0->ultralytics) (3.4.2)\n",
      "Requirement already satisfied: idna<4,>=2.5 in ./venv/lib/python3.10/site-packages (from requests>=2.23.0->ultralytics) (3.10)\n",
      "Requirement already satisfied: urllib3<3,>=1.21.1 in ./venv/lib/python3.10/site-packages (from requests>=2.23.0->ultralytics) (2.5.0)\n",
      "Requirement already satisfied: certifi>=2017.4.17 in ./venv/lib/python3.10/site-packages (from requests>=2.23.0->ultralytics) (2025.6.15)\n",
      "Requirement already satisfied: mpmath<1.4,>=1.1.0 in ./venv/lib/python3.10/site-packages (from sympy>=1.13.3->torch) (1.3.0)\n",
      "Requirement already satisfied: wcwidth in ./venv/lib/python3.10/site-packages (from ftfy->open-clip-torch) (0.2.13)\n",
      "Requirement already satisfied: hf-xet<2.0.0,>=1.1.2 in ./venv/lib/python3.10/site-packages (from huggingface-hub->open-clip-torch) (1.1.5)\n",
      "Requirement already satisfied: MarkupSafe>=2.0 in ./venv/lib/python3.10/site-packages (from jinja2->torch) (3.0.2)\n",
      "\n",
      "\u001b[1m[\u001b[0m\u001b[34;49mnotice\u001b[0m\u001b[1;39;49m]\u001b[0m\u001b[39;49m A new release of pip is available: \u001b[0m\u001b[31;49m25.0.1\u001b[0m\u001b[39;49m -> \u001b[0m\u001b[32;49m25.1.1\u001b[0m\n",
      "\u001b[1m[\u001b[0m\u001b[34;49mnotice\u001b[0m\u001b[1;39;49m]\u001b[0m\u001b[39;49m To update, run: \u001b[0m\u001b[32;49mpip install --upgrade pip\u001b[0m\n"
     ]
    }
   ],
   "source": [
    "!pip install numpy pandas scikit-learn pillow torch torchvision open-clip-torch timm ultralytics deep-sort-realtime tqdm"
   ]
  },
  {
   "cell_type": "code",
   "execution_count": null,
   "id": "85ad13c9",
   "metadata": {},
   "outputs": [],
   "source": [
    "import os\n",
    "import shutil\n",
    "from datetime import datetime, timedelta\n",
    "\n",
    "import numpy as np\n",
    "from PIL import Image\n",
    "import torch\n",
    "from tqdm.auto import tqdm\n",
    "\n",
    "import open_clip\n",
    "from ultralytics import YOLO\n",
    "from sklearn.preprocessing import StandardScaler\n",
    "from sklearn.decomposition import PCA\n",
    "from sklearn.cluster import KMeans\n",
    "# import timm -> per il ViT\n",
    "\n",
    "\n",
    "from sklearn.metrics import silhouette_score\n",
    "import matplotlib.pyplot as plt\n",
    "\n",
    "from scipy.spatial.distance import cdist\n",
    "from scipy.cluster.hierarchy import linkage, leaves_list\n",
    "\n",
    "\n",
    "device = torch.device(\"cuda\" if torch.cuda.is_available() else \"mps\" if torch.backends.mps.is_available() else \"cpu\")"
   ]
  },
  {
   "cell_type": "markdown",
   "id": "88159066",
   "metadata": {},
   "source": [
    "### Definizione di costanti, modello e funzioni di utilità"
   ]
  },
  {
   "cell_type": "code",
   "execution_count": null,
   "id": "72cfb711",
   "metadata": {},
   "outputs": [],
   "source": [
    "PATH_IMAGES = \"Home Assistant Monitor Complete Jul 5 2025/images\"\n",
    "OUTPUT_DIR = \"clusters_triplet\"\n",
    "\n",
    "yolo_model = YOLO('yolov8l.pt')\n",
    "yolo_model = yolo_model.to(device).eval()\n",
    "\n",
    "clip_model, _, preprocess = open_clip.create_model_and_transforms('ViT-B-32', pretrained='laion2b_s34b_b79k')\n",
    "clip_model = clip_model.to(device).eval()\n",
    "\n",
    "# ViT - in questa versione non usato ma si può considerarne la integrazione futura\n",
    "# vit = timm.create_model('vit_base_patch16_224', pretrained=True, num_classes=0)\n",
    "# vit = vit.to(device).eval()"
   ]
  },
  {
   "cell_type": "code",
   "execution_count": null,
   "id": "21cb1c73",
   "metadata": {},
   "outputs": [],
   "source": [
    "def expand_bbox(bbox, img_w, img_h, expansion_ratio=0.3):\n",
    "    xmin, ymin, xmax, ymax = bbox\n",
    "    w, h = xmax - xmin, ymax - ymin\n",
    "    pad_w, pad_h = w * expansion_ratio, h * expansion_ratio\n",
    "    xmin_e = max(int(xmin - pad_w), 0)\n",
    "    ymin_e = max(int(ymin - pad_h), 0)\n",
    "    xmax_e = min(int(xmax + pad_w), img_w - 1)\n",
    "    ymax_e = min(int(ymax + pad_h), img_h - 1)\n",
    "    return xmin_e, ymin_e, xmax_e, ymax_e\n",
    "\n",
    "\n",
    "def extract_clip_embedding(image):\n",
    "    img_tensor = preprocess(image).unsqueeze(0).to(device)\n",
    "    with torch.no_grad():\n",
    "        feat = clip_model.encode_image(img_tensor)\n",
    "        feat = feat / feat.norm(dim=-1, keepdim=True)\n",
    "    return feat.squeeze().cpu().numpy()\n",
    "\n",
    "\"\"\"\n",
    "\n",
    "def extract_scene_embedding(image_path):\n",
    "    pil_img = Image.open(image_path).convert(\"RGB\")\n",
    "    pil_img = pil_img.resize((224, 224), Image.LANCZOS)\n",
    "    img_tensor = torch.from_numpy(np.array(pil_img)).permute(2, 0, 1).float() / 255.0\n",
    "    img_tensor = img_tensor.unsqueeze(0).to(device)\n",
    "\n",
    "    \n",
    "    with torch.no_grad():\n",
    "        features = vit(img_tensor)  # 768 dimensioni\n",
    "    \n",
    "    return features.squeeze().cpu().numpy()\n",
    "    \n",
    "\"\"\""
   ]
  },
  {
   "cell_type": "markdown",
   "id": "b588a305",
   "metadata": {},
   "source": [
    "### Processing e lettura delle immagini\n",
    "\n",
    "Inanìzitutto si costruisce una lista con tutte le immagini da analizzare, successivamente per ogni immagine si isolano le persone, riconoscendole con yolo e tagliandole, e si calcola l'embedding."
   ]
  },
  {
   "cell_type": "code",
   "execution_count": null,
   "id": "f3425916",
   "metadata": {},
   "outputs": [],
   "source": [
    "image_info = []\n",
    "for root, _, files in os.walk(PATH_IMAGES):\n",
    "    for file in files:\n",
    "        if file.lower().endswith(('.png', '.jpg', '.jpeg')):\n",
    "            try:\n",
    "                ts = os.path.splitext(file)[0]\n",
    "                dt = datetime.strptime(ts, \"%d-%m_%H-%M-%S\")\n",
    "                image_info.append((dt, os.path.join(root, file)))\n",
    "            except ValueError:\n",
    "                continue\n",
    "image_info.sort()\n",
    "\n",
    "all_image_paths = [p for _, p in image_info]"
   ]
  },
  {
   "cell_type": "code",
   "execution_count": 8,
   "id": "9096bd75",
   "metadata": {},
   "outputs": [
    {
     "name": "stderr",
     "output_type": "stream",
     "text": [
      "Processing images: 100%|██████████| 33243/33243 [2:10:57<00:00,  4.23it/s]  \n"
     ]
    }
   ],
   "source": [
    "from concurrent.futures import ThreadPoolExecutor, as_completed\n",
    "\n",
    "import pickle\n",
    "\n",
    "def process_image(img_path):\n",
    "    pil_img = Image.open(img_path).convert(\"RGB\")\n",
    "    w, h = pil_img.size\n",
    "    mid_x = w // 2\n",
    "\n",
    "    left_img = pil_img.crop((0, 0, mid_x, h))\n",
    "    right_img = pil_img.crop((mid_x, 0, w, h))\n",
    "\n",
    "    results_all = []\n",
    "\n",
    "    results_left = yolo_model(left_img, verbose=False)[0]\n",
    "    for bbox, cls, conf in zip(results_left.boxes.xyxy.cpu().numpy(), results_left.boxes.cls.cpu().numpy(), results_left.boxes.conf.cpu().numpy()):\n",
    "        if int(cls) == 0 and conf >= 0.1:\n",
    "            xmin, ymin, xmax, ymax = bbox\n",
    "            results_all.append([xmin, ymin, xmax, ymax, conf])\n",
    "\n",
    "    results_right = yolo_model(right_img, verbose=False)[0]\n",
    "    for bbox, cls, conf in zip(results_right.boxes.xyxy.cpu().numpy(), results_right.boxes.cls.cpu().numpy(), results_right.boxes.conf.cpu().numpy()):\n",
    "        if int(cls) == 0 and conf >= 0.1:\n",
    "            xmin, ymin, xmax, ymax = bbox\n",
    "            xmin += mid_x\n",
    "            xmax += mid_x\n",
    "            results_all.append([xmin, ymin, xmax, ymax, conf])\n",
    "\n",
    "    dets = []\n",
    "    for xmin, ymin, xmax, ymax, conf in results_all:\n",
    "        if xmax <= xmin or ymax <= ymin:\n",
    "            continue\n",
    "\n",
    "        crop = pil_img.crop((\n",
    "            max(0, xmin - 0.15 * (xmax - xmin)),\n",
    "            max(0, ymin - 0.15 * (ymax - ymin)),\n",
    "            min(pil_img.width, xmax + 0.15 * (xmax - xmin)),\n",
    "            min(pil_img.height, ymax + 0.15 * (ymax - ymin))\n",
    "        ))\n",
    "\n",
    "        if crop.width == 0 or crop.height == 0:\n",
    "            continue\n",
    "\n",
    "        emb = extract_clip_embedding(crop)\n",
    "\n",
    "        dets.append({\n",
    "            \"original\": None,\n",
    "            \"crop\": None,\n",
    "            \"bbox\": [xmin, ymin, xmax, ymax],\n",
    "            \"embedding\": emb,\n",
    "        })\n",
    "\n",
    "    return img_path, dets\n",
    "\n",
    "\n",
    "person_detections_per_image = dict()\n",
    "\n",
    "\n",
    "# da provare senza multi thread causa mps\n",
    "\n",
    "with ThreadPoolExecutor(max_workers=8) as executor:\n",
    "    futures = [executor.submit(process_image, img_path) for img_path in all_image_paths]\n",
    "    with tqdm(total=len(futures), desc=\"Processing images\") as pbar:\n",
    "        for future in as_completed(futures):\n",
    "            img_path, dets = future.result()\n",
    "            person_detections_per_image[img_path] = dets\n",
    "            pbar.update(1)\n",
    "\n",
    "to_save = dict()\n",
    "for key in person_detections_per_image:\n",
    "    values = person_detections_per_image[key]\n",
    "    to_save[key] = values.copy()\n",
    "    for val in to_save[key]:\n",
    "        val[\"crop\"] = None\n",
    "        val[\"original\"] = None\n",
    "\n",
    "with open(\"person_detections_per_image.pkl\", \"wb\") as f:\n",
    "    pickle.dump(to_save, f)"
   ]
  },
  {
   "cell_type": "markdown",
   "id": "40d0b640",
   "metadata": {},
   "source": [
    "### STEP 1: divido in cluster le diverse pose / situazioni delle persone\n",
    "\n",
    "In questa fase ogni persona viene considerataa a se, si ragruppano le pose per una fase successiva"
   ]
  },
  {
   "cell_type": "code",
   "execution_count": 37,
   "id": "660af985",
   "metadata": {},
   "outputs": [
    {
     "name": "stderr",
     "output_type": "stream",
     "text": [
      "100%|██████████| 33243/33243 [00:00<00:00, 294353.12it/s]\n"
     ]
    },
    {
     "data": {
      "text/plain": [
       "(37775, 512)"
      ]
     },
     "execution_count": 37,
     "metadata": {},
     "output_type": "execute_result"
    }
   ],
   "source": [
    "features = []\n",
    "\n",
    "for i, key in tqdm(enumerate(person_detections_per_image), total=len(person_detections_per_image)):\n",
    "    values = person_detections_per_image[key]\n",
    "    values_sorted = sorted(\n",
    "        values,\n",
    "        key=lambda v: (v[\"bbox\"][2] - v[\"bbox\"][0]) * (v[\"bbox\"][3] - v[\"bbox\"][1]),\n",
    "        reverse=True \n",
    "    )\n",
    "\n",
    "    if not values_sorted:\n",
    "        features.append([0] * 512)\n",
    "        continue\n",
    "\n",
    "    for val in values_sorted:\n",
    "        features.append(val[\"embedding\"])\n",
    "        val[\"feature index\"] = len(features) - 1    \n",
    "        val[\"path\"] = all_image_paths[i]\n",
    "\n",
    "\n",
    "features = np.array(features)\n",
    "\n",
    "features.shape"
   ]
  },
  {
   "cell_type": "code",
   "execution_count": 31,
   "id": "f10a1a6d",
   "metadata": {},
   "outputs": [],
   "source": [
    "features_std = StandardScaler().fit_transform(features)\n",
    "pca = PCA(n_components=min(features.shape[0], 20), random_state=42)\n",
    "features_pca = pca.fit_transform(features_std)"
   ]
  },
  {
   "cell_type": "code",
   "execution_count": 34,
   "id": "f7af9813",
   "metadata": {},
   "outputs": [
    {
     "data": {
      "image/png": "[encoded data removed]",
      "text/plain": [
       "<Figure size 640x480 with 1 Axes>"
      ]
     },
     "metadata": {},
     "output_type": "display_data"
    },
    {
     "data": {
      "image/png": "[encoded data removed]",
      "text/plain": [
       "<Figure size 640x480 with 1 Axes>"
      ]
     },
     "metadata": {},
     "output_type": "display_data"
    }
   ],
   "source": [
    "inertias = []\n",
    "K_range = range(4, 16, 2)\n",
    "silhouette_scores = []\n",
    "\n",
    "for k in K_range:\n",
    "    km = KMeans(n_clusters=k, random_state=42, n_init=10)\n",
    "    km.fit(features_pca)\n",
    "    inertias.append(km.inertia_)\n",
    "\n",
    "    labels_tmp = km.labels_\n",
    "    n_labels = len(set(labels_tmp))\n",
    "\n",
    "    if n_labels > 1 and n_labels < len(features_pca):\n",
    "        score = silhouette_score(features_pca, labels_tmp)\n",
    "    else:\n",
    "        score = float('nan')\n",
    "    silhouette_scores.append(score)\n",
    "\n",
    "plt.plot(K_range, inertias, 'o-')\n",
    "plt.xlabel('k')\n",
    "plt.ylabel('Inertia')\n",
    "plt.title('Elbow method')\n",
    "plt.show()\n",
    "\n",
    "plt.plot(K_range, silhouette_scores, 'o-')\n",
    "plt.xlabel('k')\n",
    "plt.ylabel('Silhouette Score')\n",
    "plt.title('Silhouette analysis')\n",
    "plt.show()"
   ]
  },
  {
   "cell_type": "code",
   "execution_count": null,
   "id": "084337b4",
   "metadata": {},
   "outputs": [],
   "source": [
    "\n",
    "k = 500 \n",
    "kmeans = KMeans(n_clusters=k, random_state=42, n_init='auto')\n",
    "labels_persons = kmeans.fit_predict(features_pca)\n",
    "\n",
    "centroids = kmeans.cluster_centers_\n",
    "dists = cdist(centroids, centroids)\n",
    "\n",
    "linkage_matrix = linkage(centroids, method='ward')\n",
    "ordered_cluster_ids = leaves_list(linkage_matrix) \n",
    "\n",
    "label_map = {old: new for new, old in enumerate(ordered_cluster_ids)}\n",
    "labels_persons = np.array([label_map[label] for label in labels_persons])\n"
   ]
  },
  {
   "cell_type": "code",
   "execution_count": 48,
   "id": "aade8712",
   "metadata": {},
   "outputs": [
    {
     "name": "stderr",
     "output_type": "stream",
     "text": [
      "Saving clusters: 100%|██████████| 499/499 [01:15<00:00,  6.58it/s]\n"
     ]
    }
   ],
   "source": [
    "from collections import defaultdict\n",
    "\n",
    "output_dir = \"clusters_kmeans_500\"\n",
    "\n",
    "if os.path.exists(output_dir):\n",
    "    shutil.rmtree(output_dir)\n",
    "os.makedirs(output_dir)\n",
    "\n",
    "index_to_cluster = {i: label for i, label in enumerate(labels_persons)}\n",
    "\n",
    "clusters = defaultdict(list)\n",
    "\n",
    "for key, values in person_detections_per_image.items():\n",
    "    for val in values:\n",
    "        cluster_id = index_to_cluster.get(val[\"feature index\"])\n",
    "        if cluster_id is not None:\n",
    "            clusters[cluster_id].append((val, key))\n",
    "\n",
    "for cluster_id, items in tqdm(clusters.items(), desc=\"Saving clusters\"):\n",
    "    cluster_folder = os.path.join(output_dir, f\"cluster_{cluster_id}\")\n",
    "    os.makedirs(cluster_folder, exist_ok=True)\n",
    "\n",
    "    for idx, (val, key) in enumerate(items):\n",
    "        img = Image.open(val[\"path\"])\n",
    "        xmin, ymin, xmax, ymax = val[\"bbox\"]\n",
    "        crop = img.crop((\n",
    "            max(0, xmin - 0.15 * (xmax - xmin)),\n",
    "            max(0, ymin - 0.15 * (ymax - ymin)),\n",
    "            min(img.width, xmax + 0.15 * (xmax - xmin)),\n",
    "            min(img.height, ymax + 0.15 * (ymax - ymin))\n",
    "        ))\n",
    "\n",
    "        filename = os.path.basename(val[\"path\"]).replace(\".jpg\", \"\") + f\"_{idx}.jpg\"\n",
    "        crop.save(os.path.join(cluster_folder, filename))"
   ]
  },
  {
   "cell_type": "markdown",
   "id": "18fc846e",
   "metadata": {},
   "source": [
    "*vanno puliti tramite server_normal.js questi risultati*"
   ]
  },
  {
   "cell_type": "markdown",
   "id": "5cbdc22b",
   "metadata": {},
   "source": [
    "### STEP 2: sfruttando i cluster creati in precedenza divido le immagini per attività che stannno facendo le persone\n",
    "\n",
    "- Aver ordinato correttamente i cluster precedenti in base alla somiglianza tra loro mi permette ora di usare l'algoritmo di Kmeans al posto di quello, meno efficiente, di KModes.\n",
    "- Questo mi permette di avere le immagini originali divise in cluster"
   ]
  },
  {
   "cell_type": "code",
   "execution_count": 66,
   "id": "33ba4cc5",
   "metadata": {},
   "outputs": [
    {
     "name": "stderr",
     "output_type": "stream",
     "text": [
      "100%|██████████| 33243/33243 [00:00<00:00, 556396.32it/s]\n"
     ]
    },
    {
     "data": {
      "text/plain": [
       "(33243, 6)"
      ]
     },
     "execution_count": 66,
     "metadata": {},
     "output_type": "execute_result"
    }
   ],
   "source": [
    "features = []\n",
    "img_path_feature = []\n",
    "\n",
    "\n",
    "n_max_detections = max([len(v) for v in person_detections_per_image.values()])\n",
    "BASE_LISTS_PERSONS = [-1 for _ in range(n_max_detections) ]\n",
    "\n",
    "for key in tqdm(person_detections_per_image):\n",
    "    values = person_detections_per_image[key]\n",
    "    values_sorted = sorted(\n",
    "        values,\n",
    "        key=lambda v: (v[\"bbox\"][2] - v[\"bbox\"][0]) * (v[\"bbox\"][3] - v[\"bbox\"][1]),\n",
    "        reverse=True \n",
    "    )\n",
    "\n",
    "    list_ = BASE_LISTS_PERSONS.copy()\n",
    "    for i, v in enumerate(values_sorted):\n",
    "        if i < len(list_): list_[i] = v[\"feature index\"]\n",
    "\n",
    "    features.append(np.array(list_))\n",
    "    img_path_feature.append(key)\n",
    "\n",
    "features = np.array(features)\n",
    "\n",
    "features.shape"
   ]
  },
  {
   "cell_type": "code",
   "execution_count": 52,
   "id": "2199fb21",
   "metadata": {},
   "outputs": [],
   "source": [
    "features_std = StandardScaler().fit_transform(features)\n",
    "pca = PCA(n_components=min(features.shape[0], 20, features.shape[1]), random_state=42)\n",
    "features_pca = pca.fit_transform(features_std)"
   ]
  },
  {
   "cell_type": "code",
   "execution_count": 56,
   "id": "67b154af",
   "metadata": {},
   "outputs": [
    {
     "data": {
      "image/png": "[encoded data removed]",
      "text/plain": [
       "<Figure size 640x480 with 1 Axes>"
      ]
     },
     "metadata": {},
     "output_type": "display_data"
    },
    {
     "data": {
      "image/png": "[encoded data removed]",
      "text/plain": [
       "<Figure size 640x480 with 1 Axes>"
      ]
     },
     "metadata": {},
     "output_type": "display_data"
    }
   ],
   "source": [
    "inertias = []\n",
    "K_range = range(1, 11, 1)\n",
    "silhouette_scores = []\n",
    "\n",
    "for k in K_range:\n",
    "    km = KMeans(n_clusters=k, random_state=42, n_init=10)\n",
    "    km.fit(features_pca)\n",
    "    inertias.append(km.inertia_)\n",
    "\n",
    "    labels_tmp = km.labels_\n",
    "    n_labels = len(set(labels_tmp))\n",
    "\n",
    "    if n_labels > 1 and n_labels < len(features_pca):\n",
    "        score = silhouette_score(features_pca, labels_tmp)\n",
    "    else:\n",
    "        score = float('nan')\n",
    "    silhouette_scores.append(score)\n",
    "\n",
    "plt.plot(K_range, inertias, 'o-')\n",
    "plt.xlabel('k')\n",
    "plt.ylabel('Inertia')\n",
    "plt.title('Elbow method')\n",
    "plt.show()\n",
    "\n",
    "plt.plot(K_range, silhouette_scores, 'o-')\n",
    "plt.xlabel('k')\n",
    "plt.ylabel('Silhouette Score')\n",
    "plt.title('Silhouette analysis')\n",
    "plt.show()"
   ]
  },
  {
   "cell_type": "code",
   "execution_count": 69,
   "id": "b0dcd72b",
   "metadata": {},
   "outputs": [],
   "source": [
    "k = 500 \n",
    "kmeans = KMeans(n_clusters=k, random_state=42, n_init='auto')\n",
    "labels_multi_persons = kmeans.fit_predict(features_pca)\n",
    "\n",
    "centroids = kmeans.cluster_centers_\n",
    "dists = cdist(centroids, centroids)\n",
    "\n",
    "linkage_matrix = linkage(centroids, method='ward')\n",
    "ordered_cluster_ids = leaves_list(linkage_matrix) \n",
    "\n",
    "label_map = {old: new for new, old in enumerate(ordered_cluster_ids)}\n",
    "labels_multi_persons = np.array([label_map[label] for label in labels_multi_persons])"
   ]
  },
  {
   "cell_type": "code",
   "execution_count": 70,
   "id": "9f0414bc",
   "metadata": {},
   "outputs": [],
   "source": [
    "output_dir = \"clusters_kmeans_500_multi\"\n",
    "\n",
    "if os.path.exists(output_dir):\n",
    "    shutil.rmtree(output_dir)\n",
    "\n",
    "os.makedirs(output_dir, exist_ok=True)\n",
    "\n",
    "for i, label in enumerate(labels_multi_persons):\n",
    "    cluster_folder = os.path.join(output_dir, f\"cluster_{label}\")\n",
    "    os.makedirs(cluster_folder, exist_ok=True)\n",
    "    shutil.copy(img_path_feature[i], os.path.join(cluster_folder, os.path.basename(img_path_feature[i])))"
   ]
  },
  {
   "cell_type": "markdown",
   "id": "ab088357",
   "metadata": {},
   "source": [
    "*vanno puliti tramite server_normal.js questi risultati*"
   ]
  },
  {
   "cell_type": "markdown",
   "id": "d7ebad9e",
   "metadata": {},
   "source": [
    "### STEP 3: divido in cluster i gruppetti in immagini di 3 in 3, inoltre aggiungo altre feature\n",
    "\n",
    "Ottengo gruppi di 3 immagini ragruppate secondo i cluster calcolati nel punto 2 e le featurre aggiuntive che si trovano nel csv"
   ]
  },
  {
   "cell_type": "code",
   "execution_count": 73,
   "id": "ef499e40",
   "metadata": {},
   "outputs": [],
   "source": [
    "import pandas as pd\n",
    "\n",
    "csv = pd.read_csv(\"Home Assistant Monitor Complete Jul 5 2025/stati_home_assistant.csv\")\n",
    "\n",
    "csv['timestamp'] = pd.to_datetime(csv['timestamp'])\n",
    "\n",
    "def parse_image_timestamp(path):\n",
    "    filename = path.split(\"/\")[-1].replace(\".jpg\", \"\")\n",
    "    dt = datetime.strptime(filename, \"%d-%m_%H-%M-%S\")\n",
    "    dt = dt.replace(year=2025)\n",
    "    return dt\n",
    "\n",
    "info_dict = {}\n",
    "\n",
    "for path in all_image_paths:\n",
    "    image_time = parse_image_timestamp(path)\n",
    "    csv['delta'] = (csv['timestamp'] - image_time).abs()\n",
    "    candidates = csv[csv['delta'] <= timedelta(milliseconds=750)]\n",
    "\n",
    "    if not candidates.empty:\n",
    "        closest_row = candidates.sort_values('delta').iloc[0]\n",
    "        info_dict[path] = closest_row.drop('delta').to_dict()\n",
    "    else:\n",
    "        info_dict[path] = None\n"
   ]
  },
  {
   "cell_type": "code",
   "execution_count": 75,
   "id": "1d352931",
   "metadata": {},
   "outputs": [],
   "source": [
    "from sklearn.preprocessing import LabelEncoder\n",
    "\n",
    "keys = list(next(v for v in info_dict.values() if v is not None).keys())\n",
    "encoders = {k: LabelEncoder() for k in keys if k != 'timestamp'}\n",
    "\n",
    "for k in encoders:\n",
    "    values = [info[k] for info in info_dict.values() if info is not None]\n",
    "    encoders[k].fit(values)"
   ]
  },
  {
   "cell_type": "code",
   "execution_count": 88,
   "id": "1d0f4ed0",
   "metadata": {},
   "outputs": [
    {
     "name": "stderr",
     "output_type": "stream",
     "text": [
      "Building histograms: 100%|██████████| 32871/32871 [00:48<00:00, 681.72it/s] \n"
     ]
    }
   ],
   "source": [
    "from bisect import bisect_left\n",
    "\n",
    "def extract_temporal_features(timestamp):\n",
    "    hour = timestamp.hour\n",
    "    weekday = timestamp.weekday()\n",
    "\n",
    "    month = timestamp.month\n",
    "    if month in [12, 1, 2]:\n",
    "        season = 0  # inverno\n",
    "    elif month in [3, 4, 5]:\n",
    "        season = 1  # primavera\n",
    "    elif month in [6, 7, 8]:\n",
    "        season = 2  # estate\n",
    "    else:\n",
    "        season = 3  # autunno\n",
    "\n",
    "    return hour, weekday, season\n",
    "\n",
    "timestamps = [dt for dt, _ in image_info]\n",
    "paths = all_image_paths\n",
    "\n",
    "grouped_triplets = []\n",
    "tolerance = timedelta(seconds=30)\n",
    "for i in range(2, len(timestamps)):\n",
    "    t0 = timestamps[i]\n",
    "    t1, t2 = t0 - timedelta(minutes=1), t0 - timedelta(minutes=2)\n",
    "\n",
    "    idx1 = max(0, bisect_left(timestamps, t1) - 1)\n",
    "    while idx1 > 0 and abs(timestamps[idx1] - t1) > abs(timestamps[idx1 - 1] - t1):\n",
    "        idx1 -= 1\n",
    "    idx2 = max(0, bisect_left(timestamps, t2) - 1)\n",
    "    while idx2 > 0 and abs(timestamps[idx2] - t2) > abs(timestamps[idx2 - 1] - t2):\n",
    "        idx2 -= 1\n",
    "    if abs(timestamps[idx1] - t1) <= tolerance and abs(timestamps[idx2] - t2) <= tolerance:\n",
    "        grouped_triplets.append([paths[idx2], paths[idx1], paths[i]])\n",
    "\n",
    "scene_histograms = []\n",
    "scene_groups = []\n",
    "\n",
    "for group in tqdm(grouped_triplets, desc=\"Building histograms\"):\n",
    "    hist = []\n",
    "    for img_path in group:\n",
    "        # scene_emb = extract_scene_embedding(img_path) # provare a creare i cluster anche senza scene embedding, siamo più concentrati sulle persone\n",
    "        img_idx = img_path_feature.index(img_path) if img_path in img_path_feature else -1\n",
    "        person_cluster_label = labels_multi_persons[img_idx] if img_idx >= 0 else -1\n",
    "        num_persons = len(person_detections_per_image.get(img_path, []))\n",
    "        # combined_features = np.concatenate([\n",
    "        #     scene_emb,                    # 7 dimensioni68\n",
    "        #     [person_cluster_label]*20,       # 20 dimensione  \n",
    "        #     [num_persons]*20                 # 20 dimensione\n",
    "        # ])\n",
    "\n",
    "        feature_list = [person_cluster_label, num_persons] * 5\n",
    "        csv_info = info_dict.get(img_path)\n",
    "\n",
    "\n",
    "        if csv_info is not None:\n",
    "            ts = pd.to_datetime(csv_info['timestamp'])\n",
    "            hour, weekday, season = extract_temporal_features(ts)\n",
    "            feature_list.extend([hour, weekday])\n",
    "\n",
    "            for k in keys:\n",
    "                if k in [\"timestamp\", \"light.lampada\" ,\"light.letto\",\"light.scrivania\",\"switch.monitor\", \"delta\", \"sensor.luminosita_camera\"]:\n",
    "                    continue\n",
    "                v = csv_info[k]\n",
    "                if k in encoders:\n",
    "                    encoded_val = encoders[k].transform([v])[0]\n",
    "                    feature_list.append(encoded_val)\n",
    "                else:\n",
    "                    feature_list.append(float(v))\n",
    "        else:\n",
    "            break\n",
    "\n",
    "        combined_features = np.array(feature_list)\n",
    "\n",
    "\n",
    "        hist.append(combined_features)\n",
    "        \n",
    "        # embedding della immagine -> vedere come farlo, forse non con open clipt ma con qualcosa di più generico\n",
    "        # passare anche come dati le informazini sui cluster per le persone nell'immagine\n",
    "\n",
    "    if len(hist) != 3:\n",
    "        continue\n",
    "        \n",
    "    scene_histograms.append(np.concatenate(hist))\n",
    "    scene_groups.append(group)"
   ]
  },
  {
   "cell_type": "code",
   "execution_count": 97,
   "id": "ce69ce71",
   "metadata": {},
   "outputs": [
    {
     "name": "stdout",
     "output_type": "stream",
     "text": [
      "(31069, 39)\n"
     ]
    }
   ],
   "source": [
    "H = np.stack(scene_histograms)\n",
    "print(H.shape)\n",
    "\n",
    "scaler = StandardScaler()\n",
    "H_scaled = scaler.fit_transform(H)\n",
    "\n",
    "pca = PCA(n_components=20, random_state=42)\n",
    "H_pca = pca.fit_transform(H_scaled)"
   ]
  },
  {
   "cell_type": "code",
   "execution_count": null,
   "id": "9552e954",
   "metadata": {},
   "outputs": [],
   "source": [
    "K_range_scenes = range(10, 201, 5)  # es. [10,20,...,100]\n",
    "inertias_scenes = []\n",
    "silhouette_scenes = []\n",
    "\n",
    "for k in K_range_scenes:\n",
    "    km = KMeans(n_clusters=k, random_state=42, n_init=10).fit(H_pca)\n",
    "    inertias_scenes.append(km.inertia_)\n",
    "    if k > 1 and k < len(H_pca):\n",
    "        labels_s = km.labels_\n",
    "        silhouette_scenes.append(silhouette_score(H_pca, labels_s))\n",
    "    else:\n",
    "        silhouette_scenes.append(np.nan)\n",
    "\n",
    "# Plot Elbow per livello 2\n",
    "plt.figure()\n",
    "plt.plot(list(K_range_scenes), inertias_scenes, 'o-')\n",
    "plt.xlabel('k (scene clusters)')\n",
    "plt.ylabel('Inertia')\n",
    "plt.title('Elbow Method — Level 2')\n",
    "plt.show()\n",
    "\n",
    "# Plot Silhouette per livello 2\n",
    "plt.figure()\n",
    "plt.plot(list(K_range_scenes), silhouette_scenes, 'o-')\n",
    "plt.xlabel('k (scene clusters)')\n",
    "plt.ylabel('Silhouette Score')\n",
    "plt.title('Silhouette Analysis — Level 2')\n",
    "plt.show()"
   ]
  },
  {
   "cell_type": "code",
   "execution_count": 99,
   "id": "20d3d651",
   "metadata": {},
   "outputs": [],
   "source": [
    "k = 500 \n",
    "kmeans = KMeans(n_clusters=k, random_state=42, n_init='auto')\n",
    "labels_scenes = kmeans.fit_predict(features_pca)\n",
    "\n",
    "centroids = kmeans.cluster_centers_\n",
    "dists = cdist(centroids, centroids)\n",
    "\n",
    "linkage_matrix = linkage(centroids, method='ward')\n",
    "ordered_cluster_ids = leaves_list(linkage_matrix) \n",
    "\n",
    "label_map = {old: new for new, old in enumerate(ordered_cluster_ids)}\n",
    "labels_scenes = np.array([label_map[label] for label in labels_scenes])\n"
   ]
  },
  {
   "cell_type": "code",
   "execution_count": null,
   "id": "662e75f3",
   "metadata": {},
   "outputs": [],
   "source": [
    "shutil.rmtree(OUTPUT_DIR, ignore_errors=True)\n",
    "os.makedirs(OUTPUT_DIR, exist_ok=True)\n",
    "\n",
    "for idx, (group, lbl) in tqdm(enumerate(zip(scene_groups, labels_scenes)), total=len(scene_groups)):\n",
    "    out_dir = os.path.join(OUTPUT_DIR, f\"cluster_{lbl}\", f\"group_{idx}\")\n",
    "    os.makedirs(out_dir, exist_ok=True)\n",
    "    for img in group:\n",
    "        shutil.copy(img, os.path.join(out_dir, os.path.basename(img)))\n"
   ]
  }
 ],
 "metadata": {
  "kernelspec": {
   "display_name": "venv",
   "language": "python",
   "name": "python3"
  },
  "language_info": {
   "codemirror_mode": {
    "name": "ipython",
    "version": 3
   },
   "file_extension": ".py",
   "mimetype": "text/x-python",
   "name": "python",
   "nbconvert_exporter": "python",
   "pygments_lexer": "ipython3",
   "version": "3.10.17"
  }
 },
 "nbformat": 4,
 "nbformat_minor": 5
}
